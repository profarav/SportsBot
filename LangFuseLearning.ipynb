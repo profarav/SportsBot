{
  "cells": [
    {
      "cell_type": "markdown",
      "metadata": {
        "id": "SWEKl-UfX-ZS"
      },
      "source": [
        "---\n",
        "description: End-to-end example of creating a dataset, adding items, and running experiments with Langfuse datasets.\n",
        "category: Datasets\n",
        "---\n",
        "\n",
        "# Langfuse Datasets Cookbook\n",
        "\n",
        "In this cookbook, we'll iterate on systems prompts with the goal of getting only the capital of a given country. We use Langfuse datasets, to store a list of example inputs and expected outputs.\n",
        "\n",
        "This is a very simple example, you can run experiments on any LLM application that you either trace with the [Langfuse SDKs](https://langfuse.com/docs/sdk/overview) (Python, JS/TS) or via one of our [integrations](https://langfuse.com/integrations) (e.g. Langchain).\n",
        "\n",
        "_Simple example application_\n",
        "\n",
        "- **Model**: gpt-4o\n",
        "- **Input**: country name\n",
        "- **Output**: capital\n",
        "- **Evaluation**: exact match of completion and ground truth\n",
        "- **Experiment on**: system prompt"
      ]
    },
    {
      "cell_type": "markdown",
      "metadata": {
        "id": "iexlvXyM2eFF"
      },
      "source": [
        "## Setup"
      ]
    },
    {
      "cell_type": "code",
      "execution_count": 5,
      "metadata": {
        "id": "PONlf847Xp-A",
        "colab": {
          "base_uri": "https://localhost:8080/"
        },
        "outputId": "c853475f-efe6-4594-a770-322cc6f2c8e9"
      },
      "outputs": [
        {
          "output_type": "stream",
          "name": "stdout",
          "text": [
            "Collecting langfuse\n",
            "  Downloading langfuse-3.3.2-py3-none-any.whl.metadata (2.6 kB)\n",
            "Requirement already satisfied: openai in /usr/local/lib/python3.12/dist-packages (1.101.0)\n",
            "Collecting openai\n",
            "  Downloading openai-1.102.0-py3-none-any.whl.metadata (29 kB)\n",
            "Collecting langchain_openai\n",
            "  Downloading langchain_openai-0.3.32-py3-none-any.whl.metadata (2.4 kB)\n",
            "Requirement already satisfied: langchain in /usr/local/lib/python3.12/dist-packages (0.3.27)\n",
            "Collecting backoff>=1.10.0 (from langfuse)\n",
            "  Downloading backoff-2.2.1-py3-none-any.whl.metadata (14 kB)\n",
            "Requirement already satisfied: httpx<1.0,>=0.15.4 in /usr/local/lib/python3.12/dist-packages (from langfuse) (0.28.1)\n",
            "Requirement already satisfied: opentelemetry-api<2.0.0,>=1.33.1 in /usr/local/lib/python3.12/dist-packages (from langfuse) (1.36.0)\n",
            "Collecting opentelemetry-exporter-otlp-proto-http<2.0.0,>=1.33.1 (from langfuse)\n",
            "  Downloading opentelemetry_exporter_otlp_proto_http-1.36.0-py3-none-any.whl.metadata (2.3 kB)\n",
            "Requirement already satisfied: opentelemetry-sdk<2.0.0,>=1.33.1 in /usr/local/lib/python3.12/dist-packages (from langfuse) (1.36.0)\n",
            "Requirement already satisfied: packaging<26.0,>=23.2 in /usr/local/lib/python3.12/dist-packages (from langfuse) (25.0)\n",
            "Requirement already satisfied: pydantic<3.0,>=1.10.7 in /usr/local/lib/python3.12/dist-packages (from langfuse) (2.11.7)\n",
            "Requirement already satisfied: requests<3,>=2 in /usr/local/lib/python3.12/dist-packages (from langfuse) (2.32.4)\n",
            "Requirement already satisfied: wrapt<2.0,>=1.14 in /usr/local/lib/python3.12/dist-packages (from langfuse) (1.17.3)\n",
            "Requirement already satisfied: anyio<5,>=3.5.0 in /usr/local/lib/python3.12/dist-packages (from openai) (4.10.0)\n",
            "Requirement already satisfied: distro<2,>=1.7.0 in /usr/local/lib/python3.12/dist-packages (from openai) (1.9.0)\n",
            "Requirement already satisfied: jiter<1,>=0.4.0 in /usr/local/lib/python3.12/dist-packages (from openai) (0.10.0)\n",
            "Requirement already satisfied: sniffio in /usr/local/lib/python3.12/dist-packages (from openai) (1.3.1)\n",
            "Requirement already satisfied: tqdm>4 in /usr/local/lib/python3.12/dist-packages (from openai) (4.67.1)\n",
            "Requirement already satisfied: typing-extensions<5,>=4.11 in /usr/local/lib/python3.12/dist-packages (from openai) (4.15.0)\n",
            "Requirement already satisfied: langchain-core<1.0.0,>=0.3.74 in /usr/local/lib/python3.12/dist-packages (from langchain_openai) (0.3.74)\n",
            "Requirement already satisfied: tiktoken<1,>=0.7 in /usr/local/lib/python3.12/dist-packages (from langchain_openai) (0.11.0)\n",
            "Requirement already satisfied: langchain-text-splitters<1.0.0,>=0.3.9 in /usr/local/lib/python3.12/dist-packages (from langchain) (0.3.9)\n",
            "Requirement already satisfied: langsmith>=0.1.17 in /usr/local/lib/python3.12/dist-packages (from langchain) (0.4.16)\n",
            "Requirement already satisfied: SQLAlchemy<3,>=1.4 in /usr/local/lib/python3.12/dist-packages (from langchain) (2.0.43)\n",
            "Requirement already satisfied: PyYAML>=5.3 in /usr/local/lib/python3.12/dist-packages (from langchain) (6.0.2)\n",
            "Requirement already satisfied: idna>=2.8 in /usr/local/lib/python3.12/dist-packages (from anyio<5,>=3.5.0->openai) (3.10)\n",
            "Requirement already satisfied: certifi in /usr/local/lib/python3.12/dist-packages (from httpx<1.0,>=0.15.4->langfuse) (2025.8.3)\n",
            "Requirement already satisfied: httpcore==1.* in /usr/local/lib/python3.12/dist-packages (from httpx<1.0,>=0.15.4->langfuse) (1.0.9)\n",
            "Requirement already satisfied: h11>=0.16 in /usr/local/lib/python3.12/dist-packages (from httpcore==1.*->httpx<1.0,>=0.15.4->langfuse) (0.16.0)\n",
            "Requirement already satisfied: tenacity!=8.4.0,<10.0.0,>=8.1.0 in /usr/local/lib/python3.12/dist-packages (from langchain-core<1.0.0,>=0.3.74->langchain_openai) (8.5.0)\n",
            "Requirement already satisfied: jsonpatch<2.0,>=1.33 in /usr/local/lib/python3.12/dist-packages (from langchain-core<1.0.0,>=0.3.74->langchain_openai) (1.33)\n",
            "Requirement already satisfied: orjson>=3.9.14 in /usr/local/lib/python3.12/dist-packages (from langsmith>=0.1.17->langchain) (3.11.2)\n",
            "Requirement already satisfied: requests-toolbelt>=1.0.0 in /usr/local/lib/python3.12/dist-packages (from langsmith>=0.1.17->langchain) (1.0.0)\n",
            "Requirement already satisfied: zstandard>=0.23.0 in /usr/local/lib/python3.12/dist-packages (from langsmith>=0.1.17->langchain) (0.24.0)\n",
            "Requirement already satisfied: importlib-metadata<8.8.0,>=6.0 in /usr/local/lib/python3.12/dist-packages (from opentelemetry-api<2.0.0,>=1.33.1->langfuse) (8.7.0)\n",
            "Requirement already satisfied: googleapis-common-protos~=1.52 in /usr/local/lib/python3.12/dist-packages (from opentelemetry-exporter-otlp-proto-http<2.0.0,>=1.33.1->langfuse) (1.70.0)\n",
            "Collecting opentelemetry-exporter-otlp-proto-common==1.36.0 (from opentelemetry-exporter-otlp-proto-http<2.0.0,>=1.33.1->langfuse)\n",
            "  Downloading opentelemetry_exporter_otlp_proto_common-1.36.0-py3-none-any.whl.metadata (1.8 kB)\n",
            "Collecting opentelemetry-proto==1.36.0 (from opentelemetry-exporter-otlp-proto-http<2.0.0,>=1.33.1->langfuse)\n",
            "  Downloading opentelemetry_proto-1.36.0-py3-none-any.whl.metadata (2.3 kB)\n",
            "Requirement already satisfied: protobuf<7.0,>=5.0 in /usr/local/lib/python3.12/dist-packages (from opentelemetry-proto==1.36.0->opentelemetry-exporter-otlp-proto-http<2.0.0,>=1.33.1->langfuse) (5.29.5)\n",
            "Requirement already satisfied: opentelemetry-semantic-conventions==0.57b0 in /usr/local/lib/python3.12/dist-packages (from opentelemetry-sdk<2.0.0,>=1.33.1->langfuse) (0.57b0)\n",
            "Requirement already satisfied: annotated-types>=0.6.0 in /usr/local/lib/python3.12/dist-packages (from pydantic<3.0,>=1.10.7->langfuse) (0.7.0)\n",
            "Requirement already satisfied: pydantic-core==2.33.2 in /usr/local/lib/python3.12/dist-packages (from pydantic<3.0,>=1.10.7->langfuse) (2.33.2)\n",
            "Requirement already satisfied: typing-inspection>=0.4.0 in /usr/local/lib/python3.12/dist-packages (from pydantic<3.0,>=1.10.7->langfuse) (0.4.1)\n",
            "Requirement already satisfied: charset_normalizer<4,>=2 in /usr/local/lib/python3.12/dist-packages (from requests<3,>=2->langfuse) (3.4.3)\n",
            "Requirement already satisfied: urllib3<3,>=1.21.1 in /usr/local/lib/python3.12/dist-packages (from requests<3,>=2->langfuse) (2.5.0)\n",
            "Requirement already satisfied: greenlet>=1 in /usr/local/lib/python3.12/dist-packages (from SQLAlchemy<3,>=1.4->langchain) (3.2.4)\n",
            "Requirement already satisfied: regex>=2022.1.18 in /usr/local/lib/python3.12/dist-packages (from tiktoken<1,>=0.7->langchain_openai) (2024.11.6)\n",
            "Requirement already satisfied: zipp>=3.20 in /usr/local/lib/python3.12/dist-packages (from importlib-metadata<8.8.0,>=6.0->opentelemetry-api<2.0.0,>=1.33.1->langfuse) (3.23.0)\n",
            "Requirement already satisfied: jsonpointer>=1.9 in /usr/local/lib/python3.12/dist-packages (from jsonpatch<2.0,>=1.33->langchain-core<1.0.0,>=0.3.74->langchain_openai) (3.0.0)\n",
            "Downloading langfuse-3.3.2-py3-none-any.whl (317 kB)\n",
            "\u001b[2K   \u001b[90m━━━━━━━━━━━━━━━━━━━━━━━━━━━━━━━━━━━━━━━━\u001b[0m \u001b[32m317.6/317.6 kB\u001b[0m \u001b[31m12.2 MB/s\u001b[0m eta \u001b[36m0:00:00\u001b[0m\n",
            "\u001b[?25hDownloading openai-1.102.0-py3-none-any.whl (812 kB)\n",
            "\u001b[2K   \u001b[90m━━━━━━━━━━━━━━━━━━━━━━━━━━━━━━━━━━━━━━━━\u001b[0m \u001b[32m812.0/812.0 kB\u001b[0m \u001b[31m36.4 MB/s\u001b[0m eta \u001b[36m0:00:00\u001b[0m\n",
            "\u001b[?25hDownloading langchain_openai-0.3.32-py3-none-any.whl (74 kB)\n",
            "\u001b[2K   \u001b[90m━━━━━━━━━━━━━━━━━━━━━━━━━━━━━━━━━━━━━━━━\u001b[0m \u001b[32m74.5/74.5 kB\u001b[0m \u001b[31m6.2 MB/s\u001b[0m eta \u001b[36m0:00:00\u001b[0m\n",
            "\u001b[?25hDownloading backoff-2.2.1-py3-none-any.whl (15 kB)\n",
            "Downloading opentelemetry_exporter_otlp_proto_http-1.36.0-py3-none-any.whl (18 kB)\n",
            "Downloading opentelemetry_exporter_otlp_proto_common-1.36.0-py3-none-any.whl (18 kB)\n",
            "Downloading opentelemetry_proto-1.36.0-py3-none-any.whl (72 kB)\n",
            "\u001b[2K   \u001b[90m━━━━━━━━━━━━━━━━━━━━━━━━━━━━━━━━━━━━━━━━\u001b[0m \u001b[32m72.5/72.5 kB\u001b[0m \u001b[31m6.2 MB/s\u001b[0m eta \u001b[36m0:00:00\u001b[0m\n",
            "\u001b[?25hInstalling collected packages: opentelemetry-proto, backoff, opentelemetry-exporter-otlp-proto-common, openai, opentelemetry-exporter-otlp-proto-http, langchain_openai, langfuse\n",
            "  Attempting uninstall: openai\n",
            "    Found existing installation: openai 1.101.0\n",
            "    Uninstalling openai-1.101.0:\n",
            "      Successfully uninstalled openai-1.101.0\n",
            "Successfully installed backoff-2.2.1 langchain_openai-0.3.32 langfuse-3.3.2 openai-1.102.0 opentelemetry-exporter-otlp-proto-common-1.36.0 opentelemetry-exporter-otlp-proto-http-1.36.0 opentelemetry-proto-1.36.0\n"
          ]
        }
      ],
      "source": [
        "%pip install langfuse openai langchain_openai langchain --upgrade"
      ]
    },
    {
      "cell_type": "code",
      "execution_count": 6,
      "metadata": {
        "id": "fAquPGo3X8hg"
      },
      "outputs": [],
      "source": [
        "import os\n",
        "\n",
        "# Get keys for your project from the project settings page: https://cloud.langfuse.com\n",
        "os.environ[\"LANGFUSE_PUBLIC_KEY\"] = \"pk-lf-.\"\n",
        "os.environ[\"LANGFUSE_SECRET_KEY\"] = \"sk-lf-b\"\n",
        "os.environ[\"LANGFUSE_HOST\"] = \"https://us.cloud.langfuse.com\" # 🇺🇸 US region\n",
        "\n",
        "# Your openai key\n",
        "os.environ[\"OPENAI_API_KEY\"] = \"sk-....\""
      ]
    },
    {
      "cell_type": "markdown",
      "metadata": {
        "id": "ZLmPsybYq0rr"
      },
      "source": [
        "With the environment variables set, we can now initialize the Langfuse client. get_client() initializes the Langfuse client using the credentials provided in the environment variables."
      ]
    },
    {
      "cell_type": "code",
      "execution_count": 7,
      "metadata": {
        "id": "4kM5oWlyYitA",
        "colab": {
          "base_uri": "https://localhost:8080/"
        },
        "outputId": "186f180c-8a50-4a20-db86-cbdc8d8a8e28"
      },
      "outputs": [
        {
          "output_type": "stream",
          "name": "stdout",
          "text": [
            "Langfuse client is authenticated and ready!\n"
          ]
        }
      ],
      "source": [
        "from langfuse import get_client\n",
        "\n",
        "langfuse = get_client()\n",
        "\n",
        "# Verify connection\n",
        "if langfuse.auth_check():\n",
        "    print(\"Langfuse client is authenticated and ready!\")\n",
        "else:\n",
        "    print(\"Authentication failed. Please check your credentials and host.\")"
      ]
    },
    {
      "cell_type": "markdown",
      "metadata": {
        "id": "XwVQW5ZmX7_4"
      },
      "source": [
        "## Create a dataset"
      ]
    },
    {
      "cell_type": "code",
      "execution_count": 8,
      "metadata": {
        "id": "YH6_snEmXukE"
      },
      "outputs": [],
      "source": [
        "langfuse.create_dataset(name=\"capital_cities\");"
      ]
    },
    {
      "cell_type": "markdown",
      "metadata": {
        "id": "02ArUZboetn3",
        "tags": []
      },
      "source": [
        "### Items\n",
        "\n",
        "Load local items into the Langfuse dataset. Alternatively you can add items from production via the Langfuse UI."
      ]
    },
    {
      "cell_type": "code",
      "execution_count": 9,
      "metadata": {
        "id": "m9dOD9FYX1uM"
      },
      "outputs": [],
      "source": [
        "# example items, could also be json instead of strings\n",
        "local_items = [\n",
        "    {\"input\": {\"country\": \"Italy\"}, \"expected_output\": \"Rome\"},\n",
        "    {\"input\": {\"country\": \"Spain\"}, \"expected_output\": \"Madrid\"},\n",
        "    {\"input\": {\"country\": \"Brazil\"}, \"expected_output\": \"Brasília\"},\n",
        "    {\"input\": {\"country\": \"Japan\"}, \"expected_output\": \"Tokyo\"},\n",
        "    {\"input\": {\"country\": \"India\"}, \"expected_output\": \"New Delhi\"},\n",
        "    {\"input\": {\"country\": \"Canada\"}, \"expected_output\": \"Ottawa\"},\n",
        "    {\"input\": {\"country\": \"South Korea\"}, \"expected_output\": \"Seoul\"},\n",
        "    {\"input\": {\"country\": \"Argentina\"}, \"expected_output\": \"Buenos Aires\"},\n",
        "    {\"input\": {\"country\": \"South Africa\"}, \"expected_output\": \"Pretoria\"},\n",
        "    {\"input\": {\"country\": \"Egypt\"}, \"expected_output\": \"Cairo\"},\n",
        "    {\"input\": {\"country\": \"America\"}, \"expected_output\": \"Washington D.C.\"}\n",
        "]"
      ]
    },
    {
      "cell_type": "code",
      "execution_count": 10,
      "metadata": {
        "id": "gwjfRIeYfEOQ"
      },
      "outputs": [],
      "source": [
        "# Upload to Langfuse\n",
        "for item in local_items:\n",
        "  langfuse.create_dataset_item(\n",
        "      dataset_name=\"capital_cities\",\n",
        "      # any python object or value\n",
        "      input=item[\"input\"],\n",
        "      # any python object or value, optional\n",
        "      expected_output=item[\"expected_output\"]\n",
        ")"
      ]
    },
    {
      "cell_type": "markdown",
      "metadata": {
        "id": "OT15GYYOqJ2Q"
      },
      "source": [
        "## Example using Langfuse `@observe()` decorator"
      ]
    },
    {
      "cell_type": "markdown",
      "metadata": {
        "id": "xTTaYSkn3lOp"
      },
      "source": [
        "### Application\n",
        "\n",
        "This an example production application that we want to evaluate. It is instrumented with the Langfuse Decorator. We do not need to change the application code to evaluate it subsequently."
      ]
    },
    {
      "cell_type": "code",
      "execution_count": 11,
      "metadata": {
        "id": "UywXPjESq0rs"
      },
      "outputs": [],
      "source": [
        "from langfuse.openai import openai\n",
        "from langfuse import observe, get_client\n",
        "\n",
        "langfuse = get_client()\n",
        "\n",
        "@observe()\n",
        "def run_my_custom_llm_app(input, system_prompt):\n",
        "    messages = [\n",
        "        {\"role\":\"system\", \"content\": system_prompt},\n",
        "        {\"role\":\"user\", \"content\": input[\"country\"]}\n",
        "    ]\n",
        "\n",
        "    completion = openai.chat.completions.create(\n",
        "        model=\"gpt-4o\",\n",
        "        messages=messages\n",
        "    ).choices[0].message.content\n",
        "\n",
        "    # Explicitly set trace input/output for evaluation features\n",
        "    langfuse.update_current_trace(\n",
        "        input=input,\n",
        "        output=completion\n",
        "    )\n",
        "\n",
        "    return completion"
      ]
    },
    {
      "cell_type": "markdown",
      "metadata": {
        "id": "r4s4vPjnq0rs"
      },
      "source": [
        "### Experiment runner\n",
        "\n",
        "This is a simple experiment runner that runs the application on each item in the dataset and evaluates the output."
      ]
    },
    {
      "cell_type": "code",
      "execution_count": 12,
      "metadata": {
        "id": "qE1VZlcEaDkQ"
      },
      "outputs": [],
      "source": [
        "# we use a very simple eval here, you can use any eval library\n",
        "# see https://langfuse.com/docs/scores/model-based-evals for details\n",
        "# you can also use LLM-as-a-judge managed within Langfuse to evaluate the outputs\n",
        "\n",
        "def simple_evaluation(output, expected_output):\n",
        "  return output == expected_output"
      ]
    },
    {
      "cell_type": "code",
      "execution_count": 13,
      "metadata": {
        "id": "vo-GmgwiuhcQ"
      },
      "outputs": [],
      "source": [
        "def run_experiment(experiment_name, system_prompt):\n",
        "    dataset = langfuse.get_dataset(\"capital_cities\")\n",
        "\n",
        "    for item in dataset.items:\n",
        "\n",
        "        # Use the item.run() context manager\n",
        "        with item.run(\n",
        "            run_name = experiment_name,\n",
        "\n",
        "        ) as root_span: # root_span is the root span of the new trace for this item and run.\n",
        "            # All subsequent langfuse operations within this block are part of this trace.\n",
        "\n",
        "            # Call your application logic\n",
        "            output = run_my_custom_llm_app(item.input, system_prompt)\n",
        "\n",
        "            # Optionally, score the result against the expected output\n",
        "            root_span.score_trace(name=\"exact_match\", value = simple_evaluation(output, item.expected_output))\n",
        "\n",
        "    print(f\"\\nFinished processing dataset 'capital_cities' for run '{experiment_name}'.\")"
      ]
    },
    {
      "cell_type": "markdown",
      "metadata": {
        "id": "pBexbF6fq0rt"
      },
      "source": [
        "### Run experiments\n",
        "\n",
        "Now we can easily run experiments with different configurations to explore which yields the best results."
      ]
    },
    {
      "cell_type": "code",
      "execution_count": 14,
      "metadata": {
        "id": "ede2UzNlxABq",
        "colab": {
          "base_uri": "https://localhost:8080/"
        },
        "outputId": "c4e9e028-f180-467c-93c1-c6d3fbf229c7"
      },
      "outputs": [
        {
          "output_type": "stream",
          "name": "stdout",
          "text": [
            "\n",
            "Finished processing dataset 'capital_cities' for run 'famous_city'.\n",
            "\n",
            "Finished processing dataset 'capital_cities' for run 'directly_ask'.\n",
            "\n",
            "Finished processing dataset 'capital_cities' for run 'asking_specifically'.\n",
            "\n",
            "Finished processing dataset 'capital_cities' for run 'asking_specifically_2nd_try'.\n"
          ]
        }
      ],
      "source": [
        "from langfuse import get_client\n",
        "langfuse = get_client()\n",
        "\n",
        "run_experiment(\n",
        "    \"famous_city\",\n",
        "    \"The user will input countries, respond with the most famous city in this country\"\n",
        ")\n",
        "run_experiment(\n",
        "    \"directly_ask\",\n",
        "    \"What is the capital of the following country?\"\n",
        ")\n",
        "run_experiment(\n",
        "    \"asking_specifically\",\n",
        "    \"The user will input countries, respond with only the name of the capital\"\n",
        ")\n",
        "run_experiment(\n",
        "    \"asking_specifically_2nd_try\",\n",
        "    \"The user will input countries, respond with only the name of the capital. State only the name of the city.\"\n",
        ")\n",
        "\n",
        "# Assert that all events were sent to the Langfuse API\n",
        "langfuse.flush()\n",
        "langfuse.flush()"
      ]
    },
    {
      "cell_type": "markdown",
      "metadata": {
        "id": "kxHKNP7M36Z_"
      },
      "source": [
        "## Example using Langchain"
      ]
    },
    {
      "cell_type": "code",
      "execution_count": null,
      "metadata": {
        "id": "hZZEwFF732eU"
      },
      "outputs": [],
      "source": [
        "from langchain_openai import ChatOpenAI\n",
        "from langchain.prompts import ChatPromptTemplate\n",
        "from langchain_core.prompts import ChatPromptTemplate, MessagesPlaceholder\n",
        "from langchain_core.messages import HumanMessage\n",
        "\n",
        "def run_my_langchain_llm_app(input, system_message, callback_handler):\n",
        "\n",
        "  # Create a trace via Langfuse spans and use Langchain within it\n",
        "  with langfuse.start_as_current_span(name=\"my-langchain-agent\") as root_span:\n",
        "\n",
        "    prompt = ChatPromptTemplate.from_messages(\n",
        "      [(\"system\", system_message), MessagesPlaceholder(variable_name=\"messages\")]\n",
        "    )\n",
        "    chat = ChatOpenAI()\n",
        "    chain = prompt | chat\n",
        "\n",
        "    result = chain.invoke(\n",
        "      { \"messages\": [HumanMessage(content=input)] },\n",
        "      config={\"callbacks\":[callback_handler]}\n",
        "    )\n",
        "\n",
        "    # Update trace output\n",
        "    root_span.update_trace(\n",
        "        input=input,\n",
        "        output=result.content)\n",
        "\n",
        "  return result.content"
      ]
    },
    {
      "cell_type": "code",
      "execution_count": null,
      "metadata": {
        "id": "cBW4VD536xPo"
      },
      "outputs": [],
      "source": [
        "from langfuse.langchain import CallbackHandler\n",
        "\n",
        "def run_langchain_experiment(experiment_name, system_prompt):\n",
        "\n",
        "  dataset = langfuse.get_dataset(\"capital_cities\")\n",
        "\n",
        "  # Initialize the Langfuse handler\n",
        "  langfuse_handler = CallbackHandler()\n",
        "\n",
        "  for item in dataset.items:\n",
        "\n",
        "      # Use the item.run() context manager\n",
        "      with item.run(\n",
        "          run_name = experiment_name,\n",
        "          run_description=\"My first run\",\n",
        "          run_metadata={\"model\": \"gpt-4o\"},\n",
        "      ) as root_span: # root_span is the root span of the new trace for this item and run.\n",
        "          # All subsequent langfuse operations within this block are part of this trace.\n",
        "\n",
        "          # Call your application logic\n",
        "          output = run_my_langchain_llm_app(item.input[\"country\"], system_prompt, langfuse_handler)\n",
        "\n",
        "          # Optionally, score the result against the expected output\n",
        "          root_span.score_trace(name=\"exact_match\", value = simple_evaluation(output, item.expected_output))\n",
        "\n",
        "  print(f\"\\nFinished processing dataset 'capital_cities' for run '{experiment_name}'.\")"
      ]
    },
    {
      "cell_type": "code",
      "execution_count": null,
      "metadata": {
        "id": "bV0xas7o7Xuj"
      },
      "outputs": [],
      "source": [
        "run_langchain_experiment(\n",
        "    \"langchain_famous_city\",\n",
        "    \"The user will input countries, respond with the most famous city in this country\"\n",
        ")\n",
        "run_langchain_experiment(\n",
        "    \"langchain_directly_ask\",\n",
        "    \"What is the capital of the following country?\"\n",
        ")\n",
        "run_langchain_experiment(\n",
        "    \"langchain_asking_specifically\",\n",
        "    \"The user will input countries, respond with only the name of the capital\"\n",
        ")\n",
        "run_langchain_experiment(\n",
        "    \"langchain_asking_specifically_2nd_try\",\n",
        "    \"The user will input countries, respond with only the name of the capital. State only the name of the city.\"\n",
        ")"
      ]
    },
    {
      "cell_type": "markdown",
      "metadata": {
        "id": "xmpVVSJ4X8hi"
      },
      "source": [
        "## More Examples\n",
        "\n",
        "- [LangGraph Dataset Experiment](https://langfuse.com/guides/cookbook/example_langgraph_agents#offline-evaluation)\n",
        "- [OpenAI Agents SDK Dataset Experiment](https://langfuse.com/guides/cookbook/example_evaluating_openai_agents#dataset-evaluation)\n",
        "- [CrewAI Dataset Experiment](https://langfuse.com/integrations/frameworks/crewai#dataset-experiments)\n",
        "- [Smolagents Dataset Experiment](https://huggingface.co/learn/agents-course/en/bonus-unit2/monitoring-and-evaluating-agents-notebook#offline-evaluation)"
      ]
    }
  ],
  "metadata": {
    "colab": {
      "provenance": []
    },
    "kernelspec": {
      "display_name": ".venv",
      "language": "python",
      "name": "python3"
    },
    "language_info": {
      "codemirror_mode": {
        "name": "ipython",
        "version": 3
      },
      "file_extension": ".py",
      "mimetype": "text/x-python",
      "name": "python",
      "nbconvert_exporter": "python",
      "pygments_lexer": "ipython3",
      "version": "3.13.2"
    }
  },
  "nbformat": 4,
  "nbformat_minor": 0
}
